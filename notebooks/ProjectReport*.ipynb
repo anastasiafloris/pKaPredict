{
 "cells": [
  {
   "cell_type": "markdown",
   "metadata": {},
   "source": [
    "# **Welcome to our project report! ✨🧪**\n",
    "## *Overview*\n",
    "This notebook presents an analysis of our pKa prediction package. "
   ]
  }
 ],
 "metadata": {
  "language_info": {
   "name": "python"
  }
 },
 "nbformat": 4,
 "nbformat_minor": 2
}
