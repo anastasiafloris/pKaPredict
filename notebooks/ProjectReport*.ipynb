{
 "cells": [
  {
   "cell_type": "markdown",
   "metadata": {},
   "source": [
    "# **Welcome to our project report! ✨🧪**\n",
    "## 🚀 *Overview*\n",
    "This notebook presents an analysis of our pKa prediction package. "
   ]
  },
  {
   "cell_type": "markdown",
   "metadata": {},
   "source": [
    "## 🤯 *Acquiring Dataset*\n",
    "In a first step, we will acquire the [pKa dataset](https://github.com/cbio3lab/pKa/blob/main/Data/test_acids_bases_descfinal_nozwitterions.csv) from cbio3lab's repository, initially extracted from the Harvard [dataverse](https://dataverse.harvard.edu/dataset.xhtml?persistentId=doi:10.7910/DVN/6A67L9).\n",
    "\n",
    "Next, we will perform an exploratory analysis of the collected dataset.\n",
    "\n",
    "1) Let's download the data directly into your working directory:"
   ]
  },
  {
   "cell_type": "code",
   "execution_count": null,
   "metadata": {
    "vscode": {
     "languageId": "plaintext"
    }
   },
   "outputs": [],
   "source": [
    "!wget https://github.com/anastasiafloris/pKaPredict/blob/main/data/pkadatasetRAWDATA.csv"
   ]
  },
  {
   "cell_type": "markdown",
   "metadata": {},
   "source": [
    "2) Let's open the file and verify its existence as well as display a preview of the latter:"
   ]
  },
  {
   "cell_type": "code",
   "execution_count": null,
   "metadata": {
    "vscode": {
     "languageId": "plaintext"
    }
   },
   "outputs": [],
   "source": [
    "import pandas as pd\n",
    "from pathlib import Path\n",
    "\n",
    "# Define the current working directory\n",
    "current_directory = Path.cwd()\n",
    "print(\"Current Directory:\", current_directory.resolve())\n",
    "\n",
    "# Specify the path to the dataset file\n",
    "file_path = current_directory / \"pkadatasetRAWDATA.csv\"\n",
    "\n",
    "# Verify the file's existence and read its contents if available\n",
    "if file_path.exists():\n",
    "    print(\"The dataset file exists. Reading the file contents...\\n\")\n",
    "    \n",
    "    # Open and display the contents (optional, for verification)\n",
    "    with file_path.open(\"r\") as file:\n",
    "        content = file.read()\n",
    "        print(content[:500])  # Print only the first 500 characters for preview\n",
    "    \n",
    "    # Load the dataset using pandas\n",
    "    try:\n",
    "        data_pka = pd.read_csv(file_path, delimiter=\",\")  # Adjust delimiter if necessary\n",
    "        print(\"\\nDataset successfully loaded. Preview:\")\n",
    "        print(data_pka.head())  # Display first few rows\n",
    "    except Exception as e:\n",
    "        print(f\"Error loading dataset: {e}\")\n",
    "\n",
    "else:\n",
    "    print(\"Error: The specified file does not exist.\")\n"
   ]
  },
  {
   "cell_type": "markdown",
   "metadata": {},
   "source": [
    "## 🧹 *Cleaning Dataset*"
   ]
  },
  {
   "cell_type": "markdown",
   "metadata": {},
   "source": [
    "✅ Prints initial dataset shape <br> \n",
    "✅ Counts and removes missing values (NaN)  <br>\n",
    "✅ Prints final dataset shape after cleaning  <br>\n",
    "✅ Generates a histogram to visualize pKa value distribution  <br>"
   ]
  },
  {
   "cell_type": "code",
   "execution_count": null,
   "metadata": {
    "vscode": {
     "languageId": "plaintext"
    }
   },
   "outputs": [],
   "source": [
    "import pandas as pd\n",
    "import seaborn as sns\n",
    "import matplotlib.pyplot as plt\n",
    "\n",
    "# Remove missing values and check dataset shape\n",
    "def clean_and_visualize_pka(data_pka):\n",
    "    \"\"\"Cleans dataset by removing NaN values and visualizes pKa distribution.\"\"\"\n",
    "    \n",
    "    # Check initial shape\n",
    "    initial_shape = data_pka.shape\n",
    "    print(f\"Initial dataset shape: {initial_shape}\")\n",
    "\n",
    "    # Check for missing values\n",
    "    missing_values = data_pka.isnull().sum().sum()\n",
    "    print(f\"Total missing values: {missing_values}\")\n",
    "\n",
    "    # Drop NaN values\n",
    "    data_pka.dropna(inplace=True)\n",
    "\n",
    "    # Check final shape after cleaning\n",
    "    final_shape = data_pka.shape\n",
    "    print(f\"Dataset shape after NaN removal: {final_shape}\")\n",
    "\n",
    "    # Generate histogram for pKa distribution\n",
    "    print(\"\\nGenerating histogram for pKa distribution...\\n\")\n",
    "    sns.set_theme()\n",
    "    plt.figure(figsize=(8, 5))\n",
    "    sns.histplot(data=data_pka, x=\"pka\", binwidth=0.5, kde=True)\n",
    "    plt.xlabel(\"pKa\")\n",
    "    plt.ylabel(\"Frequency\")\n",
    "    plt.title(\"Distribution of pKa Values\")\n",
    "    plt.show()\n",
    "\n",
    "    return data_pka  # Return cleaned dataset for further processing if needed"
   ]
  }
 ],
 "metadata": {
  "language_info": {
   "name": "python"
  }
 },
 "nbformat": 4,
 "nbformat_minor": 2
}
